{
 "cells": [
  {
   "cell_type": "code",
   "execution_count": 5,
   "metadata": {},
   "outputs": [
    {
     "name": "stdout",
     "output_type": "stream",
     "text": [
      "Finished\n"
     ]
    }
   ],
   "source": [
    "'''\n",
    "Module to scrape twitter data. User provide inputer parameters that include:\n",
    "\n",
    "1) a text query to search in twitter, 2) the maximum number of tweets to scrape,\n",
    "3) the date to start a search, 4) the date to end a search\n",
    "\n",
    "\n",
    "Created on Jun 13, 2020\n",
    "\n",
    "@author: mark\n",
    "'''\n",
    "import os\n",
    "import sys\n",
    "import GetOldTweets3 as got\n",
    "import pandas as pd\n",
    "\n",
    "'''\n",
    " Method that pulls tweets from a specific username and turns to csv file.\n",
    "\n",
    "@param username- the username \n",
    "@param count- maximum number of most recent tweets to pull from\n",
    "'''\n",
    "def username_tweets_to_csv(username, count):\n",
    "    # Creation of query object\n",
    "    tweetCriteria = got.manager.TweetCriteria().setUsername(username)\\\n",
    "                                            .setMaxTweets(count)\n",
    "    # Creation of list that contains all tweets\n",
    "    tweets = got.manager.TweetManager.getTweets(tweetCriteria)\n",
    "\n",
    "    # Creating list of chosen tweet data\n",
    "    user_tweets = [[tweet.date, tweet.text] for tweet in tweets]\n",
    "\n",
    "    # Creation of dataframe from tweets list\n",
    "    tweets_df = pd.DataFrame(user_tweets, columns = ['Datetime', 'Text'])\n",
    "\n",
    "    # Converting dataframe to CSV\n",
    "    tweets_df.to_csv('{}-{}k-tweets.csv'.format(username, int(count/1000)), sep=',')\n",
    "    \n",
    "# Function that pulls tweets based on a general search query and turns to csv file\n",
    "\n",
    "'''\n",
    "Method to apply a text querty based on start and end date and maximum amount.\n",
    "\n",
    "@param text_query- the query being searched\n",
    "@param since_date- the date to begin a search\n",
    "@param util_date- the date to end a search (but not including)\n",
    "@param count- maximum number of most recent tweets to pull from\n",
    "'''\n",
    "def text_query_to_csv(text_query, since_date, until_date, count):\n",
    "    \n",
    "    pn=os.path.abspath(\"\")\n",
    "    pn=pn.split(\"src\")[0]  \n",
    "    \n",
    "    path=os.path.join(pn,'output')\n",
    "\n",
    "    # Creation of query object\n",
    "    tweetCriteria = got.manager.TweetCriteria().setQuerySearch(text_query).setSince(since_date).setUntil(until_date).setMaxTweets(count)\n",
    "    \n",
    "    # Creation of list that contains all tweets\n",
    "    tweets = got.manager.TweetManager.getTweets(tweetCriteria)\n",
    "    \n",
    "    # Creating list of chosen tweet data\n",
    "    text_tweets = [[tweet.date, tweet.id,tweet.permalink,tweet.text, tweet.retweets, tweet.hashtags,tweet.username,tweet.geo] for tweet in tweets]\n",
    "    \n",
    "    # Creation of dataframe from tweets\n",
    "    tweets_df = pd.DataFrame(text_tweets, columns = ['Datetime', 'Id','Link','Text','Retweets','Hashtags','Username','Geolocation'])\n",
    "\n",
    "    # Converting tweets dataframe to csv file\n",
    "    tweets_df.to_csv(path+'/{}-{}k-tweets.csv'.format(text_query, int(count/1000)), sep=',')\n",
    "    \n",
    "'''\n",
    "Method to run the module\n",
    "\n",
    "@param argv- the input arguments to execute the run\n",
    "'''           \n",
    "def run(argv):\n",
    "\n",
    "    # Max recent tweets pulls x amount of most recent tweets from user\n",
    "    text_query = \"colston statue\"\n",
    "    count = 50000\n",
    "\n",
    "    since_date = \"08-06-2020\"\n",
    "    until_date = \"10-06-2020\"\n",
    "\n",
    "    # Calling function to query X amount of relevant tweets and create a CSV file\n",
    "    text_query_to_csv(text_query, since_date, until_date, count)\n",
    "\n",
    "    print('Finished')\n",
    "   \n",
    "if __name__ == '__main__':\n",
    "    run(sys.argv)\n",
    "       \n"
   ]
  },
  {
   "cell_type": "code",
   "execution_count": 2,
   "metadata": {},
   "outputs": [
    {
     "name": "stdout",
     "output_type": "stream",
     "text": [
      "Collecting getoldtweets3\n",
      "  Downloading GetOldTweets3-0.0.11-py3-none-any.whl (13 kB)\n",
      "Requirement already satisfied: lxml>=3.5.0 in /home/mark/miniconda3/lib/python3.7/site-packages (from getoldtweets3) (4.5.1)\n",
      "Requirement already satisfied: pyquery>=1.2.10 in /home/mark/miniconda3/lib/python3.7/site-packages (from getoldtweets3) (1.4.1)\n",
      "Requirement already satisfied: cssselect>0.7.9 in /home/mark/miniconda3/lib/python3.7/site-packages (from pyquery>=1.2.10->getoldtweets3) (1.1.0)\n",
      "Installing collected packages: getoldtweets3\n",
      "Successfully installed getoldtweets3-0.0.11\n",
      "Note: you may need to restart the kernel to use updated packages.\n"
     ]
    }
   ],
   "source": [
    "pip install getoldtweets3\n"
   ]
  },
  {
   "cell_type": "code",
   "execution_count": null,
   "metadata": {},
   "outputs": [],
   "source": []
  }
 ],
 "metadata": {
  "kernelspec": {
   "display_name": "Python 3",
   "language": "python",
   "name": "python3"
  }
 },
 "nbformat": 4,
 "nbformat_minor": 4
}
